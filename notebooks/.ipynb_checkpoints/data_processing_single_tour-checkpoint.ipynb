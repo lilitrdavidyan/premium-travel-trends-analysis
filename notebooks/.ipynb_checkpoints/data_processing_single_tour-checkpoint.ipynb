{
 "cells": [
  {
   "cell_type": "code",
   "execution_count": 1,
   "id": "d1e1f6a9",
   "metadata": {},
   "outputs": [],
   "source": [
    "import pandas as pd\n",
    "import json\n",
    "\n",
    "import sys\n",
    "sys.path.append('../src')\n",
    "import logger_config\n",
    "from database_handler import DatabaseHandler\n",
    "sys.path.append('../src/data_acquisition')\n",
    "from tour_data_processor import TourDataProcessor\n"
   ]
  },
  {
   "cell_type": "code",
   "execution_count": 2,
   "id": "3a112b2f",
   "metadata": {},
   "outputs": [],
   "source": [
    "db_handler = DatabaseHandler()"
   ]
  },
  {
   "cell_type": "code",
   "execution_count": 3,
   "id": "8961222c",
   "metadata": {},
   "outputs": [],
   "source": [
    "processor = TourDataProcessor(db_handler)"
   ]
  },
  {
   "cell_type": "code",
   "execution_count": 4,
   "id": "d251339c",
   "metadata": {},
   "outputs": [],
   "source": [
    "with open('tour-example.json', 'r') as file:\n",
    "    tour_json = json.load(file)"
   ]
  },
  {
   "cell_type": "code",
   "execution_count": 5,
   "id": "350ea749",
   "metadata": {},
   "outputs": [],
   "source": [
    "# tour_json"
   ]
  },
  {
   "cell_type": "code",
   "execution_count": 6,
   "id": "7b570f78",
   "metadata": {},
   "outputs": [],
   "source": [
    "processor.process_tour_data(tour_json)"
   ]
  },
  {
   "cell_type": "markdown",
   "id": "acf15f90",
   "metadata": {},
   "source": [
    "Successfully processed the tour-example.json and saved to the database"
   ]
  },
  {
   "cell_type": "code",
   "execution_count": null,
   "id": "61e9ab74",
   "metadata": {},
   "outputs": [],
   "source": []
  }
 ],
 "metadata": {
  "kernelspec": {
   "display_name": "Python 3 (ipykernel)",
   "language": "python",
   "name": "python3"
  },
  "language_info": {
   "codemirror_mode": {
    "name": "ipython",
    "version": 3
   },
   "file_extension": ".py",
   "mimetype": "text/x-python",
   "name": "python",
   "nbconvert_exporter": "python",
   "pygments_lexer": "ipython3",
   "version": "3.10.9"
  }
 },
 "nbformat": 4,
 "nbformat_minor": 5
}
