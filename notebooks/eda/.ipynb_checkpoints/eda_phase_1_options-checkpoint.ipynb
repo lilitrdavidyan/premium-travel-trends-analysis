{
 "cells": [
  {
   "cell_type": "code",
   "execution_count": 3,
   "id": "110f677f",
   "metadata": {},
   "outputs": [],
   "source": [
    "import pandas as pd\n",
    "import matplotlib.pyplot as plt\n",
    "import seaborn as sns\n",
    "import eda_helpers as helper"
   ]
  },
  {
   "cell_type": "code",
   "execution_count": 4,
   "id": "32642084",
   "metadata": {},
   "outputs": [],
   "source": [
    "file_path = '../../data/processed/options.csv'"
   ]
  },
  {
   "cell_type": "code",
   "execution_count": 5,
   "id": "672781bb",
   "metadata": {},
   "outputs": [],
   "source": [
    "data = pd.read_csv(file_path)"
   ]
  },
  {
   "cell_type": "code",
   "execution_count": 6,
   "id": "cd2634ea",
   "metadata": {},
   "outputs": [
    {
     "data": {
      "text/html": [
       "<div>\n",
       "<style scoped>\n",
       "    .dataframe tbody tr th:only-of-type {\n",
       "        vertical-align: middle;\n",
       "    }\n",
       "\n",
       "    .dataframe tbody tr th {\n",
       "        vertical-align: top;\n",
       "    }\n",
       "\n",
       "    .dataframe thead th {\n",
       "        text-align: right;\n",
       "    }\n",
       "</style>\n",
       "<table border=\"1\" class=\"dataframe\">\n",
       "  <thead>\n",
       "    <tr style=\"text-align: right;\">\n",
       "      <th></th>\n",
       "      <th>id</th>\n",
       "      <th>tour_id</th>\n",
       "      <th>roomType</th>\n",
       "      <th>price</th>\n",
       "      <th>fullPrice</th>\n",
       "      <th>fkRoomTypePricingId</th>\n",
       "      <th>fkDepartureId</th>\n",
       "      <th>fkSeasonId</th>\n",
       "      <th>fkTourOptionId</th>\n",
       "      <th>fkTourId</th>\n",
       "      <th>created_at</th>\n",
       "      <th>updated_at</th>\n",
       "    </tr>\n",
       "  </thead>\n",
       "  <tbody>\n",
       "    <tr>\n",
       "      <th>0</th>\n",
       "      <td>1</td>\n",
       "      <td>tour-c6876018-bc87-49e4-9e6b-dbe099ad2a77</td>\n",
       "      <td>twin</td>\n",
       "      <td>1079.4</td>\n",
       "      <td>1079.4</td>\n",
       "      <td>6408a116-c2fa-428b-9c1c-4706203d0ace</td>\n",
       "      <td>597755e7-4b04-495e-a35c-650997814b7d</td>\n",
       "      <td>e7fa66d1-0051-49aa-890e-cdbf9ee43500</td>\n",
       "      <td>b788e686-338d-4ce2-8066-01eabba67a02</td>\n",
       "      <td>tour-c6876018-bc87-49e4-9e6b-dbe099ad2a77</td>\n",
       "      <td>2023-09-25 11:50:18</td>\n",
       "      <td>2023-09-25 11:50:18</td>\n",
       "    </tr>\n",
       "    <tr>\n",
       "      <th>1</th>\n",
       "      <td>2</td>\n",
       "      <td>tour-c6876018-bc87-49e4-9e6b-dbe099ad2a77</td>\n",
       "      <td>single</td>\n",
       "      <td>1679.4</td>\n",
       "      <td>1679.4</td>\n",
       "      <td>1aab9cde-5215-4ea9-b5c7-5114615a348b</td>\n",
       "      <td>597755e7-4b04-495e-a35c-650997814b7d</td>\n",
       "      <td>e7fa66d1-0051-49aa-890e-cdbf9ee43500</td>\n",
       "      <td>b788e686-338d-4ce2-8066-01eabba67a02</td>\n",
       "      <td>tour-c6876018-bc87-49e4-9e6b-dbe099ad2a77</td>\n",
       "      <td>2023-09-25 11:50:18</td>\n",
       "      <td>2023-09-25 11:50:18</td>\n",
       "    </tr>\n",
       "    <tr>\n",
       "      <th>2</th>\n",
       "      <td>3</td>\n",
       "      <td>tour-c6876018-bc87-49e4-9e6b-dbe099ad2a77</td>\n",
       "      <td>single</td>\n",
       "      <td>1679.4</td>\n",
       "      <td>1679.4</td>\n",
       "      <td>860df9c5-a539-41af-b006-0e716afb8e76</td>\n",
       "      <td>39adf251-7844-4218-8d71-13fdf9a733c4</td>\n",
       "      <td>e7fa66d1-0051-49aa-890e-cdbf9ee43500</td>\n",
       "      <td>b788e686-338d-4ce2-8066-01eabba67a02</td>\n",
       "      <td>tour-c6876018-bc87-49e4-9e6b-dbe099ad2a77</td>\n",
       "      <td>2023-09-25 11:50:18</td>\n",
       "      <td>2023-09-25 11:50:18</td>\n",
       "    </tr>\n",
       "    <tr>\n",
       "      <th>3</th>\n",
       "      <td>4</td>\n",
       "      <td>tour-c6876018-bc87-49e4-9e6b-dbe099ad2a77</td>\n",
       "      <td>twin</td>\n",
       "      <td>1079.4</td>\n",
       "      <td>1079.4</td>\n",
       "      <td>5be8287f-d0ae-4d74-9d07-9fea6c96ee0b</td>\n",
       "      <td>39adf251-7844-4218-8d71-13fdf9a733c4</td>\n",
       "      <td>e7fa66d1-0051-49aa-890e-cdbf9ee43500</td>\n",
       "      <td>b788e686-338d-4ce2-8066-01eabba67a02</td>\n",
       "      <td>tour-c6876018-bc87-49e4-9e6b-dbe099ad2a77</td>\n",
       "      <td>2023-09-25 11:50:18</td>\n",
       "      <td>2023-09-25 11:50:18</td>\n",
       "    </tr>\n",
       "    <tr>\n",
       "      <th>4</th>\n",
       "      <td>5</td>\n",
       "      <td>tour-c6876018-bc87-49e4-9e6b-dbe099ad2a77</td>\n",
       "      <td>single</td>\n",
       "      <td>1679.4</td>\n",
       "      <td>1679.4</td>\n",
       "      <td>0d4b147c-8e28-4645-b659-b71f7a27f2a8</td>\n",
       "      <td>961e39b1-52ae-496b-a25a-263144e312c4</td>\n",
       "      <td>e7fa66d1-0051-49aa-890e-cdbf9ee43500</td>\n",
       "      <td>b788e686-338d-4ce2-8066-01eabba67a02</td>\n",
       "      <td>tour-c6876018-bc87-49e4-9e6b-dbe099ad2a77</td>\n",
       "      <td>2023-09-25 11:50:18</td>\n",
       "      <td>2023-09-25 11:50:18</td>\n",
       "    </tr>\n",
       "    <tr>\n",
       "      <th>...</th>\n",
       "      <td>...</td>\n",
       "      <td>...</td>\n",
       "      <td>...</td>\n",
       "      <td>...</td>\n",
       "      <td>...</td>\n",
       "      <td>...</td>\n",
       "      <td>...</td>\n",
       "      <td>...</td>\n",
       "      <td>...</td>\n",
       "      <td>...</td>\n",
       "      <td>...</td>\n",
       "      <td>...</td>\n",
       "    </tr>\n",
       "    <tr>\n",
       "      <th>49588</th>\n",
       "      <td>49589</td>\n",
       "      <td>tour-171df543-de65-4733-b863-c7a3cfae7b45</td>\n",
       "      <td>twin</td>\n",
       "      <td>4023.0</td>\n",
       "      <td>4470.0</td>\n",
       "      <td>800f2d02-6c3a-4957-8e28-b28ac3eb5663</td>\n",
       "      <td>ff2e7fb6-cea3-41bd-b8f9-673239552f35</td>\n",
       "      <td>c0b1599e-0d41-4214-97ea-230c3994efa1</td>\n",
       "      <td>b9d8a3df-b867-4f6d-bea5-8ebd280f5d61</td>\n",
       "      <td>tour-171df543-de65-4733-b863-c7a3cfae7b45</td>\n",
       "      <td>2023-09-25 11:50:27</td>\n",
       "      <td>2023-09-25 11:50:27</td>\n",
       "    </tr>\n",
       "    <tr>\n",
       "      <th>49589</th>\n",
       "      <td>49590</td>\n",
       "      <td>tour-171df543-de65-4733-b863-c7a3cfae7b45</td>\n",
       "      <td>triple</td>\n",
       "      <td>4012.2</td>\n",
       "      <td>4458.0</td>\n",
       "      <td>e116f3e4-0387-4939-8e0a-82737e7d48af</td>\n",
       "      <td>4a6f1733-38a6-44ef-bcdc-8abf889ac2d1</td>\n",
       "      <td>c0b1599e-0d41-4214-97ea-230c3994efa1</td>\n",
       "      <td>b9d8a3df-b867-4f6d-bea5-8ebd280f5d61</td>\n",
       "      <td>tour-171df543-de65-4733-b863-c7a3cfae7b45</td>\n",
       "      <td>2023-09-25 11:50:27</td>\n",
       "      <td>2023-09-25 11:50:27</td>\n",
       "    </tr>\n",
       "    <tr>\n",
       "      <th>49590</th>\n",
       "      <td>49591</td>\n",
       "      <td>tour-171df543-de65-4733-b863-c7a3cfae7b45</td>\n",
       "      <td>twin</td>\n",
       "      <td>4023.0</td>\n",
       "      <td>4470.0</td>\n",
       "      <td>bc3d49f7-db13-4bb1-9892-9b73ff960e44</td>\n",
       "      <td>4a6f1733-38a6-44ef-bcdc-8abf889ac2d1</td>\n",
       "      <td>c0b1599e-0d41-4214-97ea-230c3994efa1</td>\n",
       "      <td>b9d8a3df-b867-4f6d-bea5-8ebd280f5d61</td>\n",
       "      <td>tour-171df543-de65-4733-b863-c7a3cfae7b45</td>\n",
       "      <td>2023-09-25 11:50:27</td>\n",
       "      <td>2023-09-25 11:50:27</td>\n",
       "    </tr>\n",
       "    <tr>\n",
       "      <th>49591</th>\n",
       "      <td>49592</td>\n",
       "      <td>tour-171df543-de65-4733-b863-c7a3cfae7b45</td>\n",
       "      <td>twinShare</td>\n",
       "      <td>4023.0</td>\n",
       "      <td>4470.0</td>\n",
       "      <td>a156eaaf-4e28-40b4-a7da-f610b23040fc</td>\n",
       "      <td>4a6f1733-38a6-44ef-bcdc-8abf889ac2d1</td>\n",
       "      <td>c0b1599e-0d41-4214-97ea-230c3994efa1</td>\n",
       "      <td>b9d8a3df-b867-4f6d-bea5-8ebd280f5d61</td>\n",
       "      <td>tour-171df543-de65-4733-b863-c7a3cfae7b45</td>\n",
       "      <td>2023-09-25 11:50:27</td>\n",
       "      <td>2023-09-25 11:50:27</td>\n",
       "    </tr>\n",
       "    <tr>\n",
       "      <th>49592</th>\n",
       "      <td>49593</td>\n",
       "      <td>tour-171df543-de65-4733-b863-c7a3cfae7b45</td>\n",
       "      <td>single</td>\n",
       "      <td>5306.0</td>\n",
       "      <td>5753.0</td>\n",
       "      <td>c6a5a03f-8e4c-4754-b005-4deace12d3f8</td>\n",
       "      <td>4a6f1733-38a6-44ef-bcdc-8abf889ac2d1</td>\n",
       "      <td>c0b1599e-0d41-4214-97ea-230c3994efa1</td>\n",
       "      <td>b9d8a3df-b867-4f6d-bea5-8ebd280f5d61</td>\n",
       "      <td>tour-171df543-de65-4733-b863-c7a3cfae7b45</td>\n",
       "      <td>2023-09-25 11:50:27</td>\n",
       "      <td>2023-09-25 11:50:27</td>\n",
       "    </tr>\n",
       "  </tbody>\n",
       "</table>\n",
       "<p>49593 rows × 12 columns</p>\n",
       "</div>"
      ],
      "text/plain": [
       "          id                                    tour_id   roomType   price  \\\n",
       "0          1  tour-c6876018-bc87-49e4-9e6b-dbe099ad2a77       twin  1079.4   \n",
       "1          2  tour-c6876018-bc87-49e4-9e6b-dbe099ad2a77     single  1679.4   \n",
       "2          3  tour-c6876018-bc87-49e4-9e6b-dbe099ad2a77     single  1679.4   \n",
       "3          4  tour-c6876018-bc87-49e4-9e6b-dbe099ad2a77       twin  1079.4   \n",
       "4          5  tour-c6876018-bc87-49e4-9e6b-dbe099ad2a77     single  1679.4   \n",
       "...      ...                                        ...        ...     ...   \n",
       "49588  49589  tour-171df543-de65-4733-b863-c7a3cfae7b45       twin  4023.0   \n",
       "49589  49590  tour-171df543-de65-4733-b863-c7a3cfae7b45     triple  4012.2   \n",
       "49590  49591  tour-171df543-de65-4733-b863-c7a3cfae7b45       twin  4023.0   \n",
       "49591  49592  tour-171df543-de65-4733-b863-c7a3cfae7b45  twinShare  4023.0   \n",
       "49592  49593  tour-171df543-de65-4733-b863-c7a3cfae7b45     single  5306.0   \n",
       "\n",
       "       fullPrice                   fkRoomTypePricingId  \\\n",
       "0         1079.4  6408a116-c2fa-428b-9c1c-4706203d0ace   \n",
       "1         1679.4  1aab9cde-5215-4ea9-b5c7-5114615a348b   \n",
       "2         1679.4  860df9c5-a539-41af-b006-0e716afb8e76   \n",
       "3         1079.4  5be8287f-d0ae-4d74-9d07-9fea6c96ee0b   \n",
       "4         1679.4  0d4b147c-8e28-4645-b659-b71f7a27f2a8   \n",
       "...          ...                                   ...   \n",
       "49588     4470.0  800f2d02-6c3a-4957-8e28-b28ac3eb5663   \n",
       "49589     4458.0  e116f3e4-0387-4939-8e0a-82737e7d48af   \n",
       "49590     4470.0  bc3d49f7-db13-4bb1-9892-9b73ff960e44   \n",
       "49591     4470.0  a156eaaf-4e28-40b4-a7da-f610b23040fc   \n",
       "49592     5753.0  c6a5a03f-8e4c-4754-b005-4deace12d3f8   \n",
       "\n",
       "                              fkDepartureId  \\\n",
       "0      597755e7-4b04-495e-a35c-650997814b7d   \n",
       "1      597755e7-4b04-495e-a35c-650997814b7d   \n",
       "2      39adf251-7844-4218-8d71-13fdf9a733c4   \n",
       "3      39adf251-7844-4218-8d71-13fdf9a733c4   \n",
       "4      961e39b1-52ae-496b-a25a-263144e312c4   \n",
       "...                                     ...   \n",
       "49588  ff2e7fb6-cea3-41bd-b8f9-673239552f35   \n",
       "49589  4a6f1733-38a6-44ef-bcdc-8abf889ac2d1   \n",
       "49590  4a6f1733-38a6-44ef-bcdc-8abf889ac2d1   \n",
       "49591  4a6f1733-38a6-44ef-bcdc-8abf889ac2d1   \n",
       "49592  4a6f1733-38a6-44ef-bcdc-8abf889ac2d1   \n",
       "\n",
       "                                 fkSeasonId  \\\n",
       "0      e7fa66d1-0051-49aa-890e-cdbf9ee43500   \n",
       "1      e7fa66d1-0051-49aa-890e-cdbf9ee43500   \n",
       "2      e7fa66d1-0051-49aa-890e-cdbf9ee43500   \n",
       "3      e7fa66d1-0051-49aa-890e-cdbf9ee43500   \n",
       "4      e7fa66d1-0051-49aa-890e-cdbf9ee43500   \n",
       "...                                     ...   \n",
       "49588  c0b1599e-0d41-4214-97ea-230c3994efa1   \n",
       "49589  c0b1599e-0d41-4214-97ea-230c3994efa1   \n",
       "49590  c0b1599e-0d41-4214-97ea-230c3994efa1   \n",
       "49591  c0b1599e-0d41-4214-97ea-230c3994efa1   \n",
       "49592  c0b1599e-0d41-4214-97ea-230c3994efa1   \n",
       "\n",
       "                             fkTourOptionId  \\\n",
       "0      b788e686-338d-4ce2-8066-01eabba67a02   \n",
       "1      b788e686-338d-4ce2-8066-01eabba67a02   \n",
       "2      b788e686-338d-4ce2-8066-01eabba67a02   \n",
       "3      b788e686-338d-4ce2-8066-01eabba67a02   \n",
       "4      b788e686-338d-4ce2-8066-01eabba67a02   \n",
       "...                                     ...   \n",
       "49588  b9d8a3df-b867-4f6d-bea5-8ebd280f5d61   \n",
       "49589  b9d8a3df-b867-4f6d-bea5-8ebd280f5d61   \n",
       "49590  b9d8a3df-b867-4f6d-bea5-8ebd280f5d61   \n",
       "49591  b9d8a3df-b867-4f6d-bea5-8ebd280f5d61   \n",
       "49592  b9d8a3df-b867-4f6d-bea5-8ebd280f5d61   \n",
       "\n",
       "                                        fkTourId           created_at  \\\n",
       "0      tour-c6876018-bc87-49e4-9e6b-dbe099ad2a77  2023-09-25 11:50:18   \n",
       "1      tour-c6876018-bc87-49e4-9e6b-dbe099ad2a77  2023-09-25 11:50:18   \n",
       "2      tour-c6876018-bc87-49e4-9e6b-dbe099ad2a77  2023-09-25 11:50:18   \n",
       "3      tour-c6876018-bc87-49e4-9e6b-dbe099ad2a77  2023-09-25 11:50:18   \n",
       "4      tour-c6876018-bc87-49e4-9e6b-dbe099ad2a77  2023-09-25 11:50:18   \n",
       "...                                          ...                  ...   \n",
       "49588  tour-171df543-de65-4733-b863-c7a3cfae7b45  2023-09-25 11:50:27   \n",
       "49589  tour-171df543-de65-4733-b863-c7a3cfae7b45  2023-09-25 11:50:27   \n",
       "49590  tour-171df543-de65-4733-b863-c7a3cfae7b45  2023-09-25 11:50:27   \n",
       "49591  tour-171df543-de65-4733-b863-c7a3cfae7b45  2023-09-25 11:50:27   \n",
       "49592  tour-171df543-de65-4733-b863-c7a3cfae7b45  2023-09-25 11:50:27   \n",
       "\n",
       "                updated_at  \n",
       "0      2023-09-25 11:50:18  \n",
       "1      2023-09-25 11:50:18  \n",
       "2      2023-09-25 11:50:18  \n",
       "3      2023-09-25 11:50:18  \n",
       "4      2023-09-25 11:50:18  \n",
       "...                    ...  \n",
       "49588  2023-09-25 11:50:27  \n",
       "49589  2023-09-25 11:50:27  \n",
       "49590  2023-09-25 11:50:27  \n",
       "49591  2023-09-25 11:50:27  \n",
       "49592  2023-09-25 11:50:27  \n",
       "\n",
       "[49593 rows x 12 columns]"
      ]
     },
     "execution_count": 6,
     "metadata": {},
     "output_type": "execute_result"
    }
   ],
   "source": [
    "data"
   ]
  },
  {
   "cell_type": "code",
   "execution_count": 7,
   "id": "8fefe3d6",
   "metadata": {},
   "outputs": [
    {
     "name": "stdout",
     "output_type": "stream",
     "text": [
      "<class 'pandas.core.frame.DataFrame'>\n",
      "RangeIndex: 49593 entries, 0 to 49592\n",
      "Data columns (total 12 columns):\n",
      " #   Column               Non-Null Count  Dtype  \n",
      "---  ------               --------------  -----  \n",
      " 0   id                   49593 non-null  int64  \n",
      " 1   tour_id              49593 non-null  object \n",
      " 2   roomType             49593 non-null  object \n",
      " 3   price                49593 non-null  float64\n",
      " 4   fullPrice            49593 non-null  float64\n",
      " 5   fkRoomTypePricingId  49593 non-null  object \n",
      " 6   fkDepartureId        49593 non-null  object \n",
      " 7   fkSeasonId           49593 non-null  object \n",
      " 8   fkTourOptionId       49593 non-null  object \n",
      " 9   fkTourId             49593 non-null  object \n",
      " 10  created_at           49593 non-null  object \n",
      " 11  updated_at           49593 non-null  object \n",
      "dtypes: float64(2), int64(1), object(9)\n",
      "memory usage: 4.5+ MB\n"
     ]
    }
   ],
   "source": [
    "data.info()"
   ]
  },
  {
   "cell_type": "code",
   "execution_count": 8,
   "id": "6ebcfccd",
   "metadata": {},
   "outputs": [
    {
     "data": {
      "text/html": [
       "<div>\n",
       "<style scoped>\n",
       "    .dataframe tbody tr th:only-of-type {\n",
       "        vertical-align: middle;\n",
       "    }\n",
       "\n",
       "    .dataframe tbody tr th {\n",
       "        vertical-align: top;\n",
       "    }\n",
       "\n",
       "    .dataframe thead th {\n",
       "        text-align: right;\n",
       "    }\n",
       "</style>\n",
       "<table border=\"1\" class=\"dataframe\">\n",
       "  <thead>\n",
       "    <tr style=\"text-align: right;\">\n",
       "      <th></th>\n",
       "      <th>count</th>\n",
       "      <th>mean</th>\n",
       "      <th>std</th>\n",
       "      <th>min</th>\n",
       "      <th>25%</th>\n",
       "      <th>50%</th>\n",
       "      <th>75%</th>\n",
       "      <th>max</th>\n",
       "    </tr>\n",
       "  </thead>\n",
       "  <tbody>\n",
       "    <tr>\n",
       "      <th>id</th>\n",
       "      <td>49593.0</td>\n",
       "      <td>24797.000000</td>\n",
       "      <td>14316.410287</td>\n",
       "      <td>1.0</td>\n",
       "      <td>12399.0</td>\n",
       "      <td>24797.0</td>\n",
       "      <td>37195.0</td>\n",
       "      <td>49593.0</td>\n",
       "    </tr>\n",
       "    <tr>\n",
       "      <th>price</th>\n",
       "      <td>49593.0</td>\n",
       "      <td>4849.477858</td>\n",
       "      <td>2362.929081</td>\n",
       "      <td>765.0</td>\n",
       "      <td>3210.0</td>\n",
       "      <td>4375.0</td>\n",
       "      <td>5962.0</td>\n",
       "      <td>25722.0</td>\n",
       "    </tr>\n",
       "    <tr>\n",
       "      <th>fullPrice</th>\n",
       "      <td>49593.0</td>\n",
       "      <td>4932.243083</td>\n",
       "      <td>2360.715572</td>\n",
       "      <td>765.0</td>\n",
       "      <td>3330.0</td>\n",
       "      <td>4470.0</td>\n",
       "      <td>6030.0</td>\n",
       "      <td>25722.0</td>\n",
       "    </tr>\n",
       "  </tbody>\n",
       "</table>\n",
       "</div>"
      ],
      "text/plain": [
       "             count          mean           std    min      25%      50%  \\\n",
       "id         49593.0  24797.000000  14316.410287    1.0  12399.0  24797.0   \n",
       "price      49593.0   4849.477858   2362.929081  765.0   3210.0   4375.0   \n",
       "fullPrice  49593.0   4932.243083   2360.715572  765.0   3330.0   4470.0   \n",
       "\n",
       "               75%      max  \n",
       "id         37195.0  49593.0  \n",
       "price       5962.0  25722.0  \n",
       "fullPrice   6030.0  25722.0  "
      ]
     },
     "execution_count": 8,
     "metadata": {},
     "output_type": "execute_result"
    }
   ],
   "source": [
    "data.describe(include=[float, int]).T"
   ]
  },
  {
   "cell_type": "code",
   "execution_count": 10,
   "id": "8abf74ab",
   "metadata": {},
   "outputs": [
    {
     "data": {
      "image/png": "[encoded data removed]",
      "text/plain": [
       "<Figure size 1500x500 with 2 Axes>"
      ]
     },
     "metadata": {},
     "output_type": "display_data"
    }
   ],
   "source": [
    "helper.plot_numerical_distributions(data[['price','fullPrice']],2)"
   ]
  },
  {
   "cell_type": "code",
   "execution_count": 11,
   "id": "2ac2eeed",
   "metadata": {},
   "outputs": [
    {
     "data": {
      "text/plain": [
       "['tour_id',\n",
       " 'roomType',\n",
       " 'fkRoomTypePricingId',\n",
       " 'fkDepartureId',\n",
       " 'fkSeasonId',\n",
       " 'fkTourOptionId',\n",
       " 'fkTourId',\n",
       " 'created_at',\n",
       " 'updated_at']"
      ]
     },
     "execution_count": 11,
     "metadata": {},
     "output_type": "execute_result"
    }
   ],
   "source": [
    "data.select_dtypes(include=['object']).columns.tolist()"
   ]
  },
  {
   "cell_type": "code",
   "execution_count": 12,
   "id": "bccfedfc",
   "metadata": {},
   "outputs": [
    {
     "data": {
      "text/plain": [
       "<Axes: >"
      ]
     },
     "execution_count": 12,
     "metadata": {},
     "output_type": "execute_result"
    },
    {
     "data": {
      "image/png": "[encoded data removed]",
      "text/plain": [
       "<Figure size 640x480 with 1 Axes>"
      ]
     },
     "metadata": {},
     "output_type": "display_data"
    }
   ],
   "source": [
    "data['roomType'].hist()"
   ]
  },
  {
   "cell_type": "markdown",
   "id": "249b7cd7",
   "metadata": {},
   "source": [
    "**Decisions:**\n",
    "- Remove: 'id', 'tour_id', ,\n",
    "       'fkRoomTypePricingId', 'fkDepartureId', 'fkSeasonId', 'fkTourOptionId',\n",
    "       'fkTourId', 'created_at', 'updated_at'\n",
    "- Use: 'roomType', 'price', 'fullPrice'\n"
   ]
  },
  {
   "cell_type": "code",
   "execution_count": 15,
   "id": "ff63e5f8",
   "metadata": {},
   "outputs": [
    {
     "data": {
      "text/plain": [
       "fkSeasonId\n",
       "ce112578-b208-48c1-94f3-a624224da2c7    328\n",
       "90de3b05-7150-481c-9445-462f229b0cbd    220\n",
       "0d03186f-0d56-4121-9a67-ff15496ebc2b    216\n",
       "5780f8f2-36ac-4533-95e0-a402b0d41234    200\n",
       "14f7f658-3703-4c34-864b-d62e3995f703    188\n",
       "                                       ... \n",
       "e2692a9d-a692-4de7-b43d-df7f39a8898d      2\n",
       "5e43395e-3776-4bf0-aa41-411d10f0c99f      2\n",
       "7343ebc0-6146-4cb4-b922-46dc1e07cc54      2\n",
       "a917c3b1-08e3-4af5-ad98-324e23af3c4d      2\n",
       "6f221fb0-b18a-4b6c-85cd-13618a145783      2\n",
       "Name: count, Length: 1324, dtype: int64"
      ]
     },
     "execution_count": 15,
     "metadata": {},
     "output_type": "execute_result"
    }
   ],
   "source": [
    "data['fkSeasonId'].value_counts()"
   ]
  },
  {
   "cell_type": "code",
   "execution_count": 17,
   "id": "99b3f481",
   "metadata": {},
   "outputs": [
    {
     "data": {
      "text/plain": [
       "<Axes: >"
      ]
     },
     "execution_count": 17,
     "metadata": {},
     "output_type": "execute_result"
    },
    {
     "data": {
      "image/png": "[encoded data removed]",
      "text/plain": [
       "<Figure size 640x480 with 1 Axes>"
      ]
     },
     "metadata": {},
     "output_type": "display_data"
    }
   ],
   "source": [
    "data['tour_id'].value_counts().hist()"
   ]
  },
  {
   "cell_type": "code",
   "execution_count": 18,
   "id": "6dbc32c1",
   "metadata": {},
   "outputs": [
    {
     "data": {
      "text/plain": [
       "<Axes: >"
      ]
     },
     "execution_count": 18,
     "metadata": {},
     "output_type": "execute_result"
    },
    {
     "data": {
      "image/png": "[encoded data removed]",
      "text/plain": [
       "<Figure size 640x480 with 1 Axes>"
      ]
     },
     "metadata": {},
     "output_type": "display_data"
    }
   ],
   "source": [
    "data['fkSeasonId'].value_counts().hist()"
   ]
  },
  {
   "cell_type": "code",
   "execution_count": 23,
   "id": "c2a569eb",
   "metadata": {},
   "outputs": [
    {
     "data": {
      "text/plain": [
       "<Axes: >"
      ]
     },
     "execution_count": 23,
     "metadata": {},
     "output_type": "execute_result"
    },
    {
     "data": {
      "image/png": "[encoded data removed]",
      "text/plain": [
       "<Figure size 640x480 with 1 Axes>"
      ]
     },
     "metadata": {},
     "output_type": "display_data"
    }
   ],
   "source": [
    "data['fkDepartureId'].value_counts().hist()"
   ]
  },
  {
   "cell_type": "code",
   "execution_count": null,
   "id": "faa82c58",
   "metadata": {},
   "outputs": [],
   "source": []
  }
 ],
 "metadata": {
  "kernelspec": {
   "display_name": "Python 3 (ipykernel)",
   "language": "python",
   "name": "python3"
  },
  "language_info": {
   "codemirror_mode": {
    "name": "ipython",
    "version": 3
   },
   "file_extension": ".py",
   "mimetype": "text/x-python",
   "name": "python",
   "nbconvert_exporter": "python",
   "pygments_lexer": "ipython3",
   "version": "3.10.9"
  }
 },
 "nbformat": 4,
 "nbformat_minor": 5
}
