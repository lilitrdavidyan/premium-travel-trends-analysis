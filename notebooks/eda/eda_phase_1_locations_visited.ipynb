{
 "cells": [
  {
   "cell_type": "code",
   "execution_count": 1,
   "id": "110f677f",
   "metadata": {},
   "outputs": [],
   "source": [
    "import pandas as pd\n",
    "import matplotlib.pyplot as plt\n",
    "import seaborn as sns\n",
    "import eda_helpers as helper"
   ]
  },
  {
   "cell_type": "code",
   "execution_count": 2,
   "id": "32642084",
   "metadata": {},
   "outputs": [],
   "source": [
    "file_path = '../../data/processed/locations_visited.csv'"
   ]
  },
  {
   "cell_type": "code",
   "execution_count": 3,
   "id": "672781bb",
   "metadata": {},
   "outputs": [],
   "source": [
    "data = pd.read_csv(file_path)"
   ]
  },
  {
   "cell_type": "code",
   "execution_count": 4,
   "id": "cd2634ea",
   "metadata": {},
   "outputs": [
    {
     "data": {
      "text/html": [
       "<div>\n",
       "<style scoped>\n",
       "    .dataframe tbody tr th:only-of-type {\n",
       "        vertical-align: middle;\n",
       "    }\n",
       "\n",
       "    .dataframe tbody tr th {\n",
       "        vertical-align: top;\n",
       "    }\n",
       "\n",
       "    .dataframe thead th {\n",
       "        text-align: right;\n",
       "    }\n",
       "</style>\n",
       "<table border=\"1\" class=\"dataframe\">\n",
       "  <thead>\n",
       "    <tr style=\"text-align: right;\">\n",
       "      <th></th>\n",
       "      <th>id</th>\n",
       "      <th>tour_id</th>\n",
       "      <th>itinerary_id</th>\n",
       "      <th>name</th>\n",
       "      <th>countryCode</th>\n",
       "      <th>longitude</th>\n",
       "      <th>latitude</th>\n",
       "      <th>created_at</th>\n",
       "      <th>updated_at</th>\n",
       "    </tr>\n",
       "  </thead>\n",
       "  <tbody>\n",
       "    <tr>\n",
       "      <th>0</th>\n",
       "      <td>1</td>\n",
       "      <td>tour-c6876018-bc87-49e4-9e6b-dbe099ad2a77</td>\n",
       "      <td>1</td>\n",
       "      <td>Hanoi</td>\n",
       "      <td>VN</td>\n",
       "      <td>105.699772</td>\n",
       "      <td>20.998488</td>\n",
       "      <td>2023-09-25 11:50:18</td>\n",
       "      <td>2023-09-25 11:50:18</td>\n",
       "    </tr>\n",
       "    <tr>\n",
       "      <th>1</th>\n",
       "      <td>2</td>\n",
       "      <td>tour-c6876018-bc87-49e4-9e6b-dbe099ad2a77</td>\n",
       "      <td>2</td>\n",
       "      <td>Hanoi</td>\n",
       "      <td>VN</td>\n",
       "      <td>105.699772</td>\n",
       "      <td>20.998488</td>\n",
       "      <td>2023-09-25 11:50:18</td>\n",
       "      <td>2023-09-25 11:50:18</td>\n",
       "    </tr>\n",
       "    <tr>\n",
       "      <th>2</th>\n",
       "      <td>3</td>\n",
       "      <td>tour-c6876018-bc87-49e4-9e6b-dbe099ad2a77</td>\n",
       "      <td>2</td>\n",
       "      <td>Ha Long Bay</td>\n",
       "      <td>VN</td>\n",
       "      <td>107.051479</td>\n",
       "      <td>20.824062</td>\n",
       "      <td>2023-09-25 11:50:18</td>\n",
       "      <td>2023-09-25 11:50:18</td>\n",
       "    </tr>\n",
       "    <tr>\n",
       "      <th>3</th>\n",
       "      <td>4</td>\n",
       "      <td>tour-c6876018-bc87-49e4-9e6b-dbe099ad2a77</td>\n",
       "      <td>3</td>\n",
       "      <td>Hanoi</td>\n",
       "      <td>VN</td>\n",
       "      <td>105.699772</td>\n",
       "      <td>20.998488</td>\n",
       "      <td>2023-09-25 11:50:18</td>\n",
       "      <td>2023-09-25 11:50:18</td>\n",
       "    </tr>\n",
       "    <tr>\n",
       "      <th>4</th>\n",
       "      <td>5</td>\n",
       "      <td>tour-c6876018-bc87-49e4-9e6b-dbe099ad2a77</td>\n",
       "      <td>4</td>\n",
       "      <td>Ho Chi Minh City</td>\n",
       "      <td>VN</td>\n",
       "      <td>106.713355</td>\n",
       "      <td>10.743635</td>\n",
       "      <td>2023-09-25 11:50:18</td>\n",
       "      <td>2023-09-25 11:50:18</td>\n",
       "    </tr>\n",
       "    <tr>\n",
       "      <th>...</th>\n",
       "      <td>...</td>\n",
       "      <td>...</td>\n",
       "      <td>...</td>\n",
       "      <td>...</td>\n",
       "      <td>...</td>\n",
       "      <td>...</td>\n",
       "      <td>...</td>\n",
       "      <td>...</td>\n",
       "      <td>...</td>\n",
       "    </tr>\n",
       "    <tr>\n",
       "      <th>16560</th>\n",
       "      <td>16561</td>\n",
       "      <td>tour-171df543-de65-4733-b863-c7a3cfae7b45</td>\n",
       "      <td>8934</td>\n",
       "      <td>Salzburg</td>\n",
       "      <td>AT</td>\n",
       "      <td>13.046118</td>\n",
       "      <td>47.797631</td>\n",
       "      <td>2023-09-25 11:50:27</td>\n",
       "      <td>2023-09-25 11:50:27</td>\n",
       "    </tr>\n",
       "    <tr>\n",
       "      <th>16561</th>\n",
       "      <td>16562</td>\n",
       "      <td>tour-171df543-de65-4733-b863-c7a3cfae7b45</td>\n",
       "      <td>8935</td>\n",
       "      <td>Berlin</td>\n",
       "      <td>DE</td>\n",
       "      <td>13.236281</td>\n",
       "      <td>52.436959</td>\n",
       "      <td>2023-09-25 11:50:27</td>\n",
       "      <td>2023-09-25 11:50:27</td>\n",
       "    </tr>\n",
       "    <tr>\n",
       "      <th>16562</th>\n",
       "      <td>16563</td>\n",
       "      <td>tour-171df543-de65-4733-b863-c7a3cfae7b45</td>\n",
       "      <td>8936</td>\n",
       "      <td>Innsbruck</td>\n",
       "      <td>AT</td>\n",
       "      <td>11.380083</td>\n",
       "      <td>47.289626</td>\n",
       "      <td>2023-09-25 11:50:27</td>\n",
       "      <td>2023-09-25 11:50:27</td>\n",
       "    </tr>\n",
       "    <tr>\n",
       "      <th>16563</th>\n",
       "      <td>16564</td>\n",
       "      <td>tour-171df543-de65-4733-b863-c7a3cfae7b45</td>\n",
       "      <td>8936</td>\n",
       "      <td>Salzburg</td>\n",
       "      <td>AT</td>\n",
       "      <td>13.046118</td>\n",
       "      <td>47.797631</td>\n",
       "      <td>2023-09-25 11:50:27</td>\n",
       "      <td>2023-09-25 11:50:27</td>\n",
       "    </tr>\n",
       "    <tr>\n",
       "      <th>16564</th>\n",
       "      <td>16565</td>\n",
       "      <td>tour-171df543-de65-4733-b863-c7a3cfae7b45</td>\n",
       "      <td>8937</td>\n",
       "      <td>Vienna</td>\n",
       "      <td>AT</td>\n",
       "      <td>16.389599</td>\n",
       "      <td>48.200644</td>\n",
       "      <td>2023-09-25 11:50:27</td>\n",
       "      <td>2023-09-25 11:50:27</td>\n",
       "    </tr>\n",
       "  </tbody>\n",
       "</table>\n",
       "<p>16565 rows × 9 columns</p>\n",
       "</div>"
      ],
      "text/plain": [
       "          id                                    tour_id  itinerary_id  \\\n",
       "0          1  tour-c6876018-bc87-49e4-9e6b-dbe099ad2a77             1   \n",
       "1          2  tour-c6876018-bc87-49e4-9e6b-dbe099ad2a77             2   \n",
       "2          3  tour-c6876018-bc87-49e4-9e6b-dbe099ad2a77             2   \n",
       "3          4  tour-c6876018-bc87-49e4-9e6b-dbe099ad2a77             3   \n",
       "4          5  tour-c6876018-bc87-49e4-9e6b-dbe099ad2a77             4   \n",
       "...      ...                                        ...           ...   \n",
       "16560  16561  tour-171df543-de65-4733-b863-c7a3cfae7b45          8934   \n",
       "16561  16562  tour-171df543-de65-4733-b863-c7a3cfae7b45          8935   \n",
       "16562  16563  tour-171df543-de65-4733-b863-c7a3cfae7b45          8936   \n",
       "16563  16564  tour-171df543-de65-4733-b863-c7a3cfae7b45          8936   \n",
       "16564  16565  tour-171df543-de65-4733-b863-c7a3cfae7b45          8937   \n",
       "\n",
       "                   name countryCode   longitude   latitude  \\\n",
       "0                 Hanoi          VN  105.699772  20.998488   \n",
       "1                 Hanoi          VN  105.699772  20.998488   \n",
       "2           Ha Long Bay          VN  107.051479  20.824062   \n",
       "3                 Hanoi          VN  105.699772  20.998488   \n",
       "4      Ho Chi Minh City          VN  106.713355  10.743635   \n",
       "...                 ...         ...         ...        ...   \n",
       "16560          Salzburg          AT   13.046118  47.797631   \n",
       "16561            Berlin          DE   13.236281  52.436959   \n",
       "16562         Innsbruck          AT   11.380083  47.289626   \n",
       "16563          Salzburg          AT   13.046118  47.797631   \n",
       "16564            Vienna          AT   16.389599  48.200644   \n",
       "\n",
       "                created_at           updated_at  \n",
       "0      2023-09-25 11:50:18  2023-09-25 11:50:18  \n",
       "1      2023-09-25 11:50:18  2023-09-25 11:50:18  \n",
       "2      2023-09-25 11:50:18  2023-09-25 11:50:18  \n",
       "3      2023-09-25 11:50:18  2023-09-25 11:50:18  \n",
       "4      2023-09-25 11:50:18  2023-09-25 11:50:18  \n",
       "...                    ...                  ...  \n",
       "16560  2023-09-25 11:50:27  2023-09-25 11:50:27  \n",
       "16561  2023-09-25 11:50:27  2023-09-25 11:50:27  \n",
       "16562  2023-09-25 11:50:27  2023-09-25 11:50:27  \n",
       "16563  2023-09-25 11:50:27  2023-09-25 11:50:27  \n",
       "16564  2023-09-25 11:50:27  2023-09-25 11:50:27  \n",
       "\n",
       "[16565 rows x 9 columns]"
      ]
     },
     "execution_count": 4,
     "metadata": {},
     "output_type": "execute_result"
    }
   ],
   "source": [
    "data"
   ]
  },
  {
   "cell_type": "code",
   "execution_count": 5,
   "id": "8fefe3d6",
   "metadata": {},
   "outputs": [
    {
     "name": "stdout",
     "output_type": "stream",
     "text": [
      "<class 'pandas.core.frame.DataFrame'>\n",
      "RangeIndex: 16565 entries, 0 to 16564\n",
      "Data columns (total 9 columns):\n",
      " #   Column        Non-Null Count  Dtype  \n",
      "---  ------        --------------  -----  \n",
      " 0   id            16565 non-null  int64  \n",
      " 1   tour_id       16565 non-null  object \n",
      " 2   itinerary_id  16565 non-null  int64  \n",
      " 3   name          16565 non-null  object \n",
      " 4   countryCode   16523 non-null  object \n",
      " 5   longitude     16409 non-null  float64\n",
      " 6   latitude      16409 non-null  float64\n",
      " 7   created_at    16565 non-null  object \n",
      " 8   updated_at    16565 non-null  object \n",
      "dtypes: float64(2), int64(2), object(5)\n",
      "memory usage: 1.1+ MB\n"
     ]
    }
   ],
   "source": [
    "data.info()"
   ]
  },
  {
   "cell_type": "code",
   "execution_count": 6,
   "id": "6ebcfccd",
   "metadata": {},
   "outputs": [
    {
     "data": {
      "text/html": [
       "<div>\n",
       "<style scoped>\n",
       "    .dataframe tbody tr th:only-of-type {\n",
       "        vertical-align: middle;\n",
       "    }\n",
       "\n",
       "    .dataframe tbody tr th {\n",
       "        vertical-align: top;\n",
       "    }\n",
       "\n",
       "    .dataframe thead th {\n",
       "        text-align: right;\n",
       "    }\n",
       "</style>\n",
       "<table border=\"1\" class=\"dataframe\">\n",
       "  <thead>\n",
       "    <tr style=\"text-align: right;\">\n",
       "      <th></th>\n",
       "      <th>count</th>\n",
       "      <th>mean</th>\n",
       "      <th>std</th>\n",
       "      <th>min</th>\n",
       "      <th>25%</th>\n",
       "      <th>50%</th>\n",
       "      <th>75%</th>\n",
       "      <th>max</th>\n",
       "    </tr>\n",
       "  </thead>\n",
       "  <tbody>\n",
       "    <tr>\n",
       "      <th>id</th>\n",
       "      <td>16565.0</td>\n",
       "      <td>8283.000000</td>\n",
       "      <td>4782.047940</td>\n",
       "      <td>1.000000</td>\n",
       "      <td>4142.000000</td>\n",
       "      <td>8283.000000</td>\n",
       "      <td>12424.000000</td>\n",
       "      <td>16565.00000</td>\n",
       "    </tr>\n",
       "    <tr>\n",
       "      <th>itinerary_id</th>\n",
       "      <td>16565.0</td>\n",
       "      <td>4559.782976</td>\n",
       "      <td>2562.964810</td>\n",
       "      <td>1.000000</td>\n",
       "      <td>2309.000000</td>\n",
       "      <td>4654.000000</td>\n",
       "      <td>6772.000000</td>\n",
       "      <td>8937.00000</td>\n",
       "    </tr>\n",
       "    <tr>\n",
       "      <th>longitude</th>\n",
       "      <td>16409.0</td>\n",
       "      <td>2.210885</td>\n",
       "      <td>60.761347</td>\n",
       "      <td>-159.671252</td>\n",
       "      <td>-7.119849</td>\n",
       "      <td>8.694351</td>\n",
       "      <td>21.068046</td>\n",
       "      <td>177.09172</td>\n",
       "    </tr>\n",
       "    <tr>\n",
       "      <th>latitude</th>\n",
       "      <td>16409.0</td>\n",
       "      <td>34.343165</td>\n",
       "      <td>23.357781</td>\n",
       "      <td>-54.832560</td>\n",
       "      <td>31.451050</td>\n",
       "      <td>41.834247</td>\n",
       "      <td>47.797631</td>\n",
       "      <td>71.17068</td>\n",
       "    </tr>\n",
       "  </tbody>\n",
       "</table>\n",
       "</div>"
      ],
      "text/plain": [
       "                count         mean          std         min          25%  \\\n",
       "id            16565.0  8283.000000  4782.047940    1.000000  4142.000000   \n",
       "itinerary_id  16565.0  4559.782976  2562.964810    1.000000  2309.000000   \n",
       "longitude     16409.0     2.210885    60.761347 -159.671252    -7.119849   \n",
       "latitude      16409.0    34.343165    23.357781  -54.832560    31.451050   \n",
       "\n",
       "                      50%           75%          max  \n",
       "id            8283.000000  12424.000000  16565.00000  \n",
       "itinerary_id  4654.000000   6772.000000   8937.00000  \n",
       "longitude        8.694351     21.068046    177.09172  \n",
       "latitude        41.834247     47.797631     71.17068  "
      ]
     },
     "execution_count": 6,
     "metadata": {},
     "output_type": "execute_result"
    }
   ],
   "source": [
    "data.describe(include=[float, int]).T"
   ]
  },
  {
   "cell_type": "markdown",
   "id": "b239a9f2",
   "metadata": {},
   "source": [
    "**Observations:**\n",
    "\n",
    "**longitude and latitude:** are missing valies for some raws."
   ]
  },
  {
   "cell_type": "code",
   "execution_count": 16,
   "id": "2ac2eeed",
   "metadata": {},
   "outputs": [
    {
     "data": {
      "text/plain": [
       "['tour_id', 'name', 'countryCode', 'created_at', 'updated_at']"
      ]
     },
     "execution_count": 16,
     "metadata": {},
     "output_type": "execute_result"
    }
   ],
   "source": [
    "data.select_dtypes(include=['object']).columns.tolist()"
   ]
  },
  {
   "cell_type": "code",
   "execution_count": 10,
   "id": "b913a70c",
   "metadata": {},
   "outputs": [
    {
     "data": {
      "text/plain": [
       "countryCode\n",
       "IT    2054\n",
       "US    1584\n",
       "ES    1233\n",
       "GB    1061\n",
       "IE     676\n",
       "      ... \n",
       "LA       6\n",
       "SZ       4\n",
       "BW       4\n",
       "LS       2\n",
       "ZM       1\n",
       "Name: count, Length: 84, dtype: int64"
      ]
     },
     "execution_count": 10,
     "metadata": {},
     "output_type": "execute_result"
    }
   ],
   "source": [
    "data['countryCode'].value_counts()"
   ]
  },
  {
   "cell_type": "code",
   "execution_count": 24,
   "id": "15e4018f",
   "metadata": {},
   "outputs": [
    {
     "data": {
      "text/plain": [
       "name\n",
       "Rome                                       466\n",
       "Venice                                     346\n",
       "Florence                                   311\n",
       "Paris                                      256\n",
       "Madrid                                     252\n",
       "                                          ... \n",
       "Great Sand Dunes National Park Preserve      1\n",
       "Ouray                                        1\n",
       "Silverton                                    1\n",
       "Colorado National Monument                   1\n",
       "Franschhoek                                  1\n",
       "Name: count, Length: 1529, dtype: int64"
      ]
     },
     "execution_count": 24,
     "metadata": {},
     "output_type": "execute_result"
    }
   ],
   "source": [
    "data['name'].value_counts()"
   ]
  },
  {
   "cell_type": "markdown",
   "id": "249b7cd7",
   "metadata": {},
   "source": [
    "**Decisions:**\n",
    "- 'id': remove\n",
    "- 'tour_id': remove\n",
    "- 'itinerary_id': remove\n",
    "- 'name': keep for NLP \n",
    "- 'countryCode': keep \n",
    "- 'longitude': keep\n",
    "- 'latitude': keep \n",
    "- 'created_at': remove\n",
    "- 'updated_at': remove\n"
   ]
  },
  {
   "cell_type": "code",
   "execution_count": 19,
   "id": "b9b8e566",
   "metadata": {},
   "outputs": [
    {
     "data": {
      "text/plain": [
       "<Axes: >"
      ]
     },
     "execution_count": 19,
     "metadata": {},
     "output_type": "execute_result"
    },
    {
     "data": {
      "image/png": "[encoded data removed]",
      "text/plain": [
       "<Figure size 640x480 with 1 Axes>"
      ]
     },
     "metadata": {},
     "output_type": "display_data"
    }
   ],
   "source": [
    "data['itinerary_id'].value_counts().hist()"
   ]
  },
  {
   "cell_type": "markdown",
   "id": "a8f01dfd",
   "metadata": {},
   "source": [
    "The plot above shows the distribution of number of locations visited in a day. "
   ]
  },
  {
   "cell_type": "code",
   "execution_count": 22,
   "id": "6a124476",
   "metadata": {},
   "outputs": [
    {
     "data": {
      "text/plain": [
       "<Axes: >"
      ]
     },
     "execution_count": 22,
     "metadata": {},
     "output_type": "execute_result"
    },
    {
     "data": {
      "image/png": "[encoded data removed]",
      "text/plain": [
       "<Figure size 640x480 with 1 Axes>"
      ]
     },
     "metadata": {},
     "output_type": "display_data"
    }
   ],
   "source": [
    "data['tour_id'].value_counts().hist(bins = 100)"
   ]
  },
  {
   "cell_type": "markdown",
   "id": "3169e803",
   "metadata": {},
   "source": [
    "The plot above shows the distribution of number of locations visited per tour."
   ]
  },
  {
   "cell_type": "code",
   "execution_count": 27,
   "id": "c3a6f92e",
   "metadata": {},
   "outputs": [],
   "source": [
    "value_counts = data['name'].value_counts()"
   ]
  },
  {
   "cell_type": "code",
   "execution_count": 28,
   "id": "696c4e13",
   "metadata": {},
   "outputs": [
    {
     "data": {
      "text/plain": [
       "(1252, 958, 814, 597, 347, 255, 195)"
      ]
     },
     "execution_count": 28,
     "metadata": {},
     "output_type": "execute_result"
    }
   ],
   "source": [
    "(value_counts > 1).sum(), (value_counts > 2).sum(), (value_counts > 3).sum(), (value_counts > 5).sum(), (value_counts > 10).sum(), (value_counts > 15).sum(), (value_counts > 20).sum()"
   ]
  },
  {
   "cell_type": "code",
   "execution_count": null,
   "id": "80648719",
   "metadata": {},
   "outputs": [],
   "source": []
  }
 ],
 "metadata": {
  "kernelspec": {
   "display_name": "Python 3 (ipykernel)",
   "language": "python",
   "name": "python3"
  },
  "language_info": {
   "codemirror_mode": {
    "name": "ipython",
    "version": 3
   },
   "file_extension": ".py",
   "mimetype": "text/x-python",
   "name": "python",
   "nbconvert_exporter": "python",
   "pygments_lexer": "ipython3",
   "version": "3.10.9"
  }
 },
 "nbformat": 4,
 "nbformat_minor": 5
}
